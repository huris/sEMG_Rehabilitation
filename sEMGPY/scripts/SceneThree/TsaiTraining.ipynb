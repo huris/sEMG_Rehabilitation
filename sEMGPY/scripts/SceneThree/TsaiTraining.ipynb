{
 "cells": [
  {
   "cell_type": "code",
   "execution_count": 7,
   "id": "69cf0317",
   "metadata": {},
   "outputs": [
    {
     "name": "stdout",
     "output_type": "stream",
     "text": [
      "os             : Windows-10-10.0.19043-SP0\n",
      "python         : 3.8.12\n",
      "tsai           : 0.3.0\n",
      "fastai         : 2.5.3\n",
      "fastcore       : 1.3.29\n",
      "torch          : 1.10.2+cu113\n",
      "n_cpus         : 16\n",
      "device         : cuda (NVIDIA GeForce RTX 3070 Laptop GPU)\n"
     ]
    }
   ],
   "source": [
    "from tsai.all import *\n",
    "computer_setup()"
   ]
  },
  {
   "cell_type": "code",
   "execution_count": 8,
   "id": "1404c8b2",
   "metadata": {},
   "outputs": [
    {
     "name": "stdout",
     "output_type": "stream",
     "text": [
      "['ACSF1', 'Adiac', 'AllGestureWiimoteX', 'AllGestureWiimoteY', 'AllGestureWiimoteZ', 'ArrowHead', 'Beef', 'BeetleFly', 'BirdChicken', 'BME', 'Car', 'CBF', 'Chinatown', 'ChlorineConcentration', 'CinCECGTorso', 'Coffee', 'Computers', 'CricketX', 'CricketY', 'CricketZ', 'Crop', 'DiatomSizeReduction', 'DistalPhalanxOutlineAgeGroup', 'DistalPhalanxOutlineCorrect', 'DistalPhalanxTW', 'DodgerLoopDay', 'DodgerLoopGame', 'DodgerLoopWeekend', 'Earthquakes', 'ECG200', 'ECG5000', 'ECGFiveDays', 'ElectricDevices', 'EOGHorizontalSignal', 'EOGVerticalSignal', 'EthanolLevel', 'FaceAll', 'FaceFour', 'FacesUCR', 'FiftyWords', 'Fish', 'FordA', 'FordB', 'FreezerRegularTrain', 'FreezerSmallTrain', 'Fungi', 'GestureMidAirD1', 'GestureMidAirD2', 'GestureMidAirD3', 'GesturePebbleZ1', 'GesturePebbleZ2', 'GunPoint', 'GunPointAgeSpan', 'GunPointMaleVersusFemale', 'GunPointOldVersusYoung', 'Ham', 'HandOutlines', 'Haptics', 'Herring', 'HouseTwenty', 'InlineSkate', 'InsectEPGRegularTrain', 'InsectEPGSmallTrain', 'InsectWingbeatSound', 'ItalyPowerDemand', 'LargeKitchenAppliances', 'Lightning2', 'Lightning7', 'Mallat', 'Meat', 'MedicalImages', 'MelbournePedestrian', 'MiddlePhalanxOutlineAgeGroup', 'MiddlePhalanxOutlineCorrect', 'MiddlePhalanxTW', 'MixedShapesRegularTrain', 'MixedShapesSmallTrain', 'MoteStrain', 'NonInvasiveFetalECGThorax1', 'NonInvasiveFetalECGThorax2', 'OliveOil', 'OSULeaf', 'PhalangesOutlinesCorrect', 'Phoneme', 'PickupGestureWiimoteZ', 'PigAirwayPressure', 'PigArtPressure', 'PigCVP', 'PLAID', 'Plane', 'PowerCons', 'ProximalPhalanxOutlineAgeGroup', 'ProximalPhalanxOutlineCorrect', 'ProximalPhalanxTW', 'RefrigerationDevices', 'Rock', 'ScreenType', 'SemgHandGenderCh2', 'SemgHandMovementCh2', 'SemgHandSubjectCh2', 'ShakeGestureWiimoteZ', 'ShapeletSim', 'ShapesAll', 'SmallKitchenAppliances', 'SmoothSubspace', 'SonyAIBORobotSurface1', 'SonyAIBORobotSurface2', 'StarLightCurves', 'Strawberry', 'SwedishLeaf', 'Symbols', 'SyntheticControl', 'ToeSegmentation1', 'ToeSegmentation2', 'Trace', 'TwoLeadECG', 'TwoPatterns', 'UMD', 'UWaveGestureLibraryAll', 'UWaveGestureLibraryX', 'UWaveGestureLibraryY', 'UWaveGestureLibraryZ', 'Wafer', 'Wine', 'WordSynonyms', 'Worms', 'WormsTwoClass', 'Yoga']\n"
     ]
    }
   ],
   "source": [
    "print(get_UCR_univariate_list())"
   ]
  },
  {
   "cell_type": "code",
   "execution_count": 9,
   "id": "177eb4bc",
   "metadata": {},
   "outputs": [
    {
     "name": "stdout",
     "output_type": "stream",
     "text": [
      "['ArticularyWordRecognition', 'AtrialFibrillation', 'BasicMotions', 'CharacterTrajectories', 'Cricket', 'DuckDuckGeese', 'EigenWorms', 'Epilepsy', 'ERing', 'EthanolConcentration', 'FaceDetection', 'FingerMovements', 'HandMovementDirection', 'Handwriting', 'Heartbeat', 'InsectWingbeat', 'JapaneseVowels', 'Libras', 'LSST', 'MotorImagery', 'NATOPS', 'PEMS-SF', 'PenDigits', 'PhonemeSpectra', 'RacketSports', 'SelfRegulationSCP1', 'SelfRegulationSCP2', 'SpokenArabicDigits', 'StandWalkJump', 'UWaveGestureLibrary']\n"
     ]
    }
   ],
   "source": [
    "print(get_UCR_multivariate_list())"
   ]
  },
  {
   "cell_type": "code",
   "execution_count": 10,
   "id": "e32185ae",
   "metadata": {},
   "outputs": [
    {
     "data": {
      "text/plain": [
       "((360, 24, 51),\n",
       " (360,),\n",
       " ((#2459) [0,1,2,3,4,5,6,7,8,9...],\n",
       "  (#2466) [2459,2460,2461,2462,2463,2464,2465,2466,2467,2468...]))"
      ]
     },
     "execution_count": 10,
     "metadata": {},
     "output_type": "execute_result"
    }
   ],
   "source": [
    "dsid = 'NATOPS'\n",
    "X, y, shplits = get_UCR_data(dsid, return_split=False)\n",
    "X.shape, y.shape, splits"
   ]
  },
  {
   "cell_type": "code",
   "execution_count": 14,
   "id": "f9972123",
   "metadata": {},
   "outputs": [
    {
     "data": {
      "text/plain": [
       "memmap(['4.0', '3.0', '3.0', '4.0', '3.0', '5.0', '1.0', '6.0', '3.0',\n",
       "        '2.0', '6.0', '1.0', '4.0', '6.0', '3.0', '2.0', '3.0', '2.0',\n",
       "        '2.0', '6.0', '4.0', '3.0', '5.0', '4.0', '1.0', '6.0', '3.0',\n",
       "        '5.0', '5.0', '5.0', '3.0', '5.0', '3.0', '5.0', '4.0', '5.0',\n",
       "        '3.0', '1.0', '4.0', '6.0', '3.0', '4.0', '4.0', '6.0', '1.0',\n",
       "        '6.0', '2.0', '1.0', '1.0', '6.0', '4.0', '1.0', '3.0', '3.0',\n",
       "        '2.0', '1.0', '5.0', '1.0', '2.0', '5.0', '4.0', '5.0', '2.0',\n",
       "        '5.0', '1.0', '6.0', '3.0', '1.0', '2.0', '1.0', '3.0', '4.0',\n",
       "        '4.0', '3.0', '5.0', '2.0', '2.0', '3.0', '3.0', '6.0', '6.0',\n",
       "        '1.0', '2.0', '5.0', '2.0', '2.0', '4.0', '5.0', '6.0', '4.0',\n",
       "        '2.0', '3.0', '1.0', '3.0', '1.0', '5.0', '6.0', '6.0', '5.0',\n",
       "        '5.0', '6.0', '4.0', '2.0', '1.0', '2.0', '2.0', '2.0', '6.0',\n",
       "        '5.0', '4.0', '3.0', '4.0', '1.0', '3.0', '5.0', '5.0', '5.0',\n",
       "        '4.0', '3.0', '6.0', '3.0', '1.0', '3.0', '4.0', '1.0', '6.0',\n",
       "        '2.0', '1.0', '6.0', '4.0', '1.0', '2.0', '5.0', '6.0', '6.0',\n",
       "        '1.0', '6.0', '4.0', '6.0', '2.0', '1.0', '1.0', '1.0', '4.0',\n",
       "        '1.0', '6.0', '6.0', '3.0', '2.0', '6.0', '6.0', '3.0', '5.0',\n",
       "        '5.0', '1.0', '2.0', '2.0', '5.0', '2.0', '3.0', '3.0', '5.0',\n",
       "        '2.0', '4.0', '6.0', '4.0', '5.0', '2.0', '2.0', '5.0', '4.0',\n",
       "        '1.0', '6.0', '2.0', '4.0', '4.0', '5.0', '1.0', '4.0', '4.0',\n",
       "        '4.0', '5.0', '6.0', '1.0', '4.0', '3.0', '2.0', '3.0', '3.0',\n",
       "        '1.0', '5.0', '4.0', '3.0', '5.0', '2.0', '1.0', '5.0', '1.0',\n",
       "        '5.0', '1.0', '3.0', '4.0', '6.0', '6.0', '2.0', '3.0', '2.0',\n",
       "        '1.0', '2.0', '5.0', '3.0', '4.0', '6.0', '5.0', '4.0', '6.0',\n",
       "        '4.0', '1.0', '4.0', '6.0', '5.0', '3.0', '2.0', '6.0', '1.0',\n",
       "        '3.0', '5.0', '4.0', '3.0', '3.0', '3.0', '3.0', '1.0', '3.0',\n",
       "        '1.0', '2.0', '1.0', '1.0', '5.0', '2.0', '5.0', '6.0', '1.0',\n",
       "        '6.0', '2.0', '2.0', '2.0', '3.0', '5.0', '2.0', '6.0', '4.0',\n",
       "        '1.0', '4.0', '5.0', '4.0', '2.0', '5.0', '5.0', '3.0', '1.0',\n",
       "        '4.0', '4.0', '6.0', '2.0', '6.0', '3.0', '6.0', '6.0', '5.0',\n",
       "        '5.0', '3.0', '5.0', '4.0', '6.0', '3.0', '2.0', '6.0', '1.0',\n",
       "        '4.0', '1.0', '6.0', '4.0', '6.0', '1.0', '6.0', '6.0', '1.0',\n",
       "        '3.0', '6.0', '1.0', '2.0', '2.0', '5.0', '2.0', '1.0', '1.0',\n",
       "        '3.0', '5.0', '2.0', '1.0', '4.0', '5.0', '4.0', '2.0', '3.0',\n",
       "        '3.0', '3.0', '3.0', '1.0', '5.0', '1.0', '1.0', '2.0', '4.0',\n",
       "        '5.0', '5.0', '3.0', '2.0', '2.0', '2.0', '5.0', '5.0', '4.0',\n",
       "        '2.0', '5.0', '1.0', '5.0', '6.0', '6.0', '2.0', '6.0', '4.0',\n",
       "        '4.0', '6.0', '6.0', '5.0', '4.0', '6.0', '2.0', '4.0', '3.0',\n",
       "        '4.0', '1.0', '2.0', '4.0', '1.0', '3.0', '6.0', '3.0', '2.0',\n",
       "        '6.0', '4.0', '2.0', '1.0', '6.0', '3.0', '5.0', '4.0', '4.0'],\n",
       "       dtype='<U3')"
      ]
     },
     "execution_count": 14,
     "metadata": {},
     "output_type": "execute_result"
    }
   ],
   "source": [
    "y"
   ]
  },
  {
   "cell_type": "code",
   "execution_count": null,
   "id": "908cea9b",
   "metadata": {},
   "outputs": [],
   "source": []
  }
 ],
 "metadata": {
  "kernelspec": {
   "display_name": "p38",
   "language": "python",
   "name": "p38"
  },
  "language_info": {
   "codemirror_mode": {
    "name": "ipython",
    "version": 3
   },
   "file_extension": ".py",
   "mimetype": "text/x-python",
   "name": "python",
   "nbconvert_exporter": "python",
   "pygments_lexer": "ipython3",
   "version": "3.8.12"
  }
 },
 "nbformat": 4,
 "nbformat_minor": 5
}
