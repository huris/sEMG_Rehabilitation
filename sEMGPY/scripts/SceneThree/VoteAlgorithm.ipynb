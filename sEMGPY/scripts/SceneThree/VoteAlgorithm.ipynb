{
 "cells": [
  {
   "cell_type": "markdown",
   "id": "a9457366",
   "metadata": {},
   "source": [
    "# 导入库"
   ]
  },
  {
   "cell_type": "code",
   "execution_count": 1,
   "id": "97962a9c",
   "metadata": {},
   "outputs": [],
   "source": [
    "import seaborn as sns\n",
    "import matplotlib.pyplot as plt\n",
    "from matplotlib import rcParams\n",
    "import pandas_profiling as ppf\n",
    "%matplotlib inline\n",
    "%config InlineBackend.figure_format = 'svg'\n",
    "# # 设置中文和'-'负号显示问题\n",
    "# from pylab import mpl\n",
    "# mpl.rcParams['font.sans-serif'] = ['FangSong']  # 设置matplotlib可以显示汉语\n",
    "# mpl.rcParams['axes.unicode_minus'] = True\n",
    "\n",
    "# Preprocessing tools\n",
    "import math\n",
    "import time\n",
    "import numpy as np\n",
    "import pandas as pd\n",
    "\n",
    "# DL/ML Algoirthm\n",
    "from sklearn.impute import SimpleImputer\n",
    "from sklearn.preprocessing import OneHotEncoder\n",
    "from tsai.all import *\n",
    "\n",
    "# import data\n",
    "import joblib\n",
    "\n",
    "\n",
    "import os, sys\n",
    "os.environ[\"KMP_DUPLICATE_LIB_OK\"]=\"TRUE\"\n",
    "import warnings\n",
    "warnings.filterwarnings(action=\"ignore\")"
   ]
  },
  {
   "cell_type": "code",
   "execution_count": 2,
   "id": "8153b356",
   "metadata": {},
   "outputs": [],
   "source": [
    "# class HiddenPrints:\n",
    "#     def __enter__(self):\n",
    "#         self._original_stdout = sys.stdout\n",
    "#         sys.stdout = open(os.devnull, 'w')\n",
    "\n",
    "#     def __exit__(self, exc_type, exc_val, exc_tb):\n",
    "#         sys.stdout.close()\n",
    "#         sys.stdout = self._original_stdout"
   ]
  },
  {
   "cell_type": "code",
   "execution_count": 3,
   "id": "fe434de7",
   "metadata": {},
   "outputs": [],
   "source": [
    "def R2Score(YTrue, YPre):\n",
    "    u = ((YTrue - YPre) ** 2).sum()\n",
    "    v = ((YTrue - YTrue.mean()) ** 2).sum()\n",
    "    return 1 - u / v"
   ]
  },
  {
   "cell_type": "markdown",
   "id": "54deff2e",
   "metadata": {},
   "source": [
    "# 导入数据"
   ]
  },
  {
   "cell_type": "code",
   "execution_count": 4,
   "id": "40c54c86",
   "metadata": {},
   "outputs": [],
   "source": [
    "cols = [\"One\", \"Two\", \"Three\", \"Four\", \"Five\", \"Six\", \"Seven\", \"Eight\", \"Rect\", \"Time_ns\"]\n",
    "\n",
    "train1_data = pd.read_csv(\"data/Train1.csv\", header=None)\n",
    "train2_data = pd.read_csv(\"data/Train2.csv\", header=None)\n",
    "train3_data = pd.read_csv(\"data/Train3.csv\", header=None)\n",
    "train_data = pd.read_csv(\"data/Train.csv\", header=None)\n",
    "\n",
    "test_data = pd.read_csv(\"data/Test.csv\", header=None)\n",
    "valid_data = pd.read_csv(\"data/Valid.csv\", header=None)\n",
    "\n",
    "train_data.columns = test_data.columns = valid_data.columns = cols"
   ]
  },
  {
   "cell_type": "code",
   "execution_count": 5,
   "id": "9d7a83ac",
   "metadata": {},
   "outputs": [
    {
     "data": {
      "text/plain": [
       "(      One  Two  Three  Four  Five  Six  Seven  Eight\n",
       " 0      84  268    736   161    57  285     76    209\n",
       " 1      90  262    717   147    54  292     78    216\n",
       " 2      96  291    708   173    61  297     80    205\n",
       " 3      96  361    719   164    58  302     80    208\n",
       " 4      85  374    746   148    55  309     75    215\n",
       " ...   ...  ...    ...   ...   ...  ...    ...    ...\n",
       " 8926  212  596    640   186    65  573    360    488\n",
       " 8927  215  588    647   189    69  588    434    561\n",
       " 8928  194  589    653   185    60  601    477    573\n",
       " 8929  200  464    649   160    53  629    499    579\n",
       " 8930  197  438    629   143    53  661    508    606\n",
       " \n",
       " [8931 rows x 8 columns],\n",
       " 0       0.18\n",
       " 1       0.19\n",
       " 2       0.21\n",
       " 3       0.22\n",
       " 4       0.23\n",
       "         ... \n",
       " 8926    0.29\n",
       " 8927    0.30\n",
       " 8928    0.31\n",
       " 8929    0.32\n",
       " 8930    0.33\n",
       " Name: Rect, Length: 8931, dtype: float64,\n",
       "       One  Two  Three  Four  Five  Six  Seven  Eight  Rect\n",
       " 0      84  268    736   161    57  285     76    209  0.18\n",
       " 1      90  262    717   147    54  292     78    216  0.19\n",
       " 2      96  291    708   173    61  297     80    205  0.21\n",
       " 3      96  361    719   164    58  302     80    208  0.22\n",
       " 4      85  374    746   148    55  309     75    215  0.23\n",
       " ...   ...  ...    ...   ...   ...  ...    ...    ...   ...\n",
       " 8926  212  596    640   186    65  573    360    488  0.29\n",
       " 8927  215  588    647   189    69  588    434    561  0.30\n",
       " 8928  194  589    653   185    60  601    477    573  0.31\n",
       " 8929  200  464    649   160    53  629    499    579  0.32\n",
       " 8930  197  438    629   143    53  661    508    606  0.33\n",
       " \n",
       " [8931 rows x 9 columns],\n",
       "          One    Two  Three   Four  Five    Six  Seven  Eight  Rect\n",
       " 0       84.0  268.0  736.0  161.0  57.0  285.0   76.0  209.0  0.18\n",
       " 1       90.0  262.0  717.0  147.0  54.0  292.0   78.0  216.0  0.19\n",
       " 2       96.0  291.0  708.0  173.0  61.0  297.0   80.0  205.0  0.21\n",
       " 3       96.0  361.0  719.0  164.0  58.0  302.0   80.0  208.0  0.22\n",
       " 4       85.0  374.0  746.0  148.0  55.0  309.0   75.0  215.0  0.23\n",
       " ...      ...    ...    ...    ...   ...    ...    ...    ...   ...\n",
       " 11903  160.0  472.0  573.0  149.0  82.0  597.0  620.0  607.0  0.29\n",
       " 11904  172.0  438.0  536.0  150.0  82.0  564.0  638.0  590.0  0.29\n",
       " 11905  170.0  443.0  528.0  151.0  85.0  502.0  622.0  611.0  0.31\n",
       " 11906  172.0  462.0  517.0  154.0  78.0  411.0  436.0  524.0  0.32\n",
       " 11907  191.0  574.0  402.0  178.0  88.0  386.0  533.0  559.0  0.32\n",
       " \n",
       " [11908 rows x 9 columns],\n",
       "       One  Three  Four  Six  Seven  Eight\n",
       " 0      84    736   161  285     76    209\n",
       " 1      90    717   147  292     78    216\n",
       " 2      96    708   173  297     80    205\n",
       " 3      96    719   164  302     80    208\n",
       " 4      85    746   148  309     75    215\n",
       " ...   ...    ...   ...  ...    ...    ...\n",
       " 8926  212    640   186  573    360    488\n",
       " 8927  215    647   189  588    434    561\n",
       " 8928  194    653   185  601    477    573\n",
       " 8929  200    649   160  629    499    579\n",
       " 8930  197    629   143  661    508    606\n",
       " \n",
       " [8931 rows x 6 columns],\n",
       "       Three  Four\n",
       " 0       736   161\n",
       " 1       717   147\n",
       " 2       708   173\n",
       " 3       719   164\n",
       " 4       746   148\n",
       " ...     ...   ...\n",
       " 8926    640   186\n",
       " 8927    647   189\n",
       " 8928    653   185\n",
       " 8929    649   160\n",
       " 8930    629   143\n",
       " \n",
       " [8931 rows x 2 columns])"
      ]
     },
     "execution_count": 5,
     "metadata": {},
     "output_type": "execute_result"
    }
   ],
   "source": [
    "train_features = train_data.drop(['Rect', 'Time_ns'], axis=1)\n",
    "train_labels = train_data.Rect\n",
    "train_all = pd.concat([train_features, train_labels], axis=1, ignore_index=True, sort=False)\n",
    "train_six_features = train_data.drop(['Two', 'Five', 'Rect', 'Time_ns'], axis=1)\n",
    "train_two_features = pd.concat([train_data.Three, train_data.Four], axis=1, ignore_index=False, sort=False)\n",
    "\n",
    "test_features = test_data.drop(['Rect', 'Time_ns'], axis=1)\n",
    "test_labels = test_data.Rect\n",
    "test_all = pd.concat([test_features, test_labels], axis=1, ignore_index=True, sort=False)\n",
    "test_six_features = test_data.drop(['Two', 'Five', 'Rect', 'Time_ns'], axis=1)\n",
    "test_two_features = pd.concat([test_data.Three, test_data.Four], axis=1, ignore_index=False, sort=False)\n",
    "\n",
    "valid_features = valid_data.drop(['Rect', 'Time_ns'], axis=1)\n",
    "valid_labels = valid_data.Rect\n",
    "valid_all = pd.concat([valid_features, valid_labels], axis=1, ignore_index=True, sort=False)\n",
    "valid_six_features = valid_data.drop(['Two', 'Five', 'Rect', 'Time_ns'], axis=1)\n",
    "valid_two_features = pd.concat([valid_data.Three, valid_data.Four], axis=1, ignore_index=False, sort=False)\n",
    "\n",
    "sEMG_all = pd.concat([train_all, test_all], axis=0, ignore_index=True, sort=False)\n",
    "\n",
    "train_all.columns = test_all.columns = valid_all.columns = sEMG_all.columns = cols[:-1]\n",
    "train_features, train_labels, train_all, sEMG_all, train_six_features, train_two_features"
   ]
  },
  {
   "cell_type": "markdown",
   "id": "550a80cc",
   "metadata": {},
   "source": [
    "# 机器学习模型"
   ]
  },
  {
   "cell_type": "code",
   "execution_count": 6,
   "id": "f0ce1469",
   "metadata": {},
   "outputs": [],
   "source": [
    "# 加载机器学习模型\n",
    "MLModels = joblib.load('models/sEMGML.pkl')\n",
    "\n",
    "# 初始化最优权重值\n",
    "MLWeight = np.array([0.42, 0.04, 0.14, 0.11, 0.09, 0.2])"
   ]
  },
  {
   "cell_type": "markdown",
   "id": "ec7a56b4",
   "metadata": {},
   "source": [
    "## ML测试"
   ]
  },
  {
   "cell_type": "code",
   "execution_count": 7,
   "id": "fb4d7503",
   "metadata": {},
   "outputs": [
    {
     "data": {
      "text/plain": [
       "(array([[0.43085063, 0.30477173, 0.22223776, 0.22317647, 0.28845479,\n",
       "         0.37974083],\n",
       "        [0.44880923, 0.30763618, 0.22979021, 0.22835294, 0.26067798,\n",
       "         0.37974083],\n",
       "        [0.44601176, 0.31969189, 0.2441958 , 0.24035294, 0.27522198,\n",
       "         0.33478057],\n",
       "        ...,\n",
       "        [0.27416195, 0.27762241, 0.29944056, 0.29235294, 0.1957659 ,\n",
       "         0.25217813],\n",
       "        [0.33256748, 0.28362576, 0.30496503, 0.29682353, 0.23436033,\n",
       "         0.25018883],\n",
       "        [0.34077732, 0.27405009, 0.30132867, 0.28470588, 0.28078823,\n",
       "         0.29625681]]),\n",
       " array([[0.32102138, 0.39810778, 0.42202797, 0.34352941, 0.49197519,\n",
       "         0.41710743],\n",
       "        [0.31598836, 0.41696216, 0.45503497, 0.37811765, 0.49892752,\n",
       "         0.43328741],\n",
       "        [0.25276803, 0.37851528, 0.28972028, 0.27741176, 0.39213947,\n",
       "         0.33069032],\n",
       "        ...,\n",
       "        [0.26341001, 0.26353859, 0.25391608, 0.27435294, 0.30275246,\n",
       "         0.2670275 ],\n",
       "        [0.27854299, 0.26846458, 0.26195804, 0.26423529, 0.25568027,\n",
       "         0.29200053],\n",
       "        [0.29491924, 0.30907412, 0.27643357, 0.26635294, 0.31035107,\n",
       "         0.31434077]]),\n",
       " array([[0.34352278, 0.33843807, 0.34391608, 0.34317647, 0.35168391,\n",
       "         0.30791   ],\n",
       "        [0.36398079, 0.36858392, 0.38111888, 0.38941176, 0.32788013,\n",
       "         0.30431798],\n",
       "        [0.44211752, 0.42298457, 0.36223776, 0.37423529, 0.37525557,\n",
       "         0.41431168],\n",
       "        ...,\n",
       "        [0.38463954, 0.36315289, 0.38923077, 0.38647059, 0.34840107,\n",
       "         0.40019709],\n",
       "        [0.45548757, 0.39746857, 0.40132867, 0.40329412, 0.39161485,\n",
       "         0.39967513],\n",
       "        [0.42519353, 0.37248946, 0.3934965 , 0.40529412, 0.33770833,\n",
       "         0.35576165]]))"
      ]
     },
     "execution_count": 7,
     "metadata": {},
     "output_type": "execute_result"
    }
   ],
   "source": [
    "MLTrain_Results = np.zeros((train_features.shape[0], len(MLModels)))\n",
    "MLTest_Results = np.zeros((test_features.shape[0], len(MLModels)))\n",
    "MLValid_Results = np.zeros((valid_features.shape[0], len(MLModels)))\n",
    "\n",
    "\n",
    "idx = 0\n",
    "for model in MLModels:\n",
    "    MLTrain_Results[:, idx] = MLModels[model].predict(train_features)\n",
    "    MLTest_Results[:, idx] = MLModels[model].predict(test_features)\n",
    "    MLValid_Results[:, idx] = MLModels[model].predict(valid_features)\n",
    "    idx += 1\n",
    "\n",
    "MLTrain_Results, MLTest_Results, MLValid_Results"
   ]
  },
  {
   "cell_type": "code",
   "execution_count": 8,
   "id": "0751a733",
   "metadata": {},
   "outputs": [
    {
     "data": {
      "text/plain": [
       "0.934382825970081"
      ]
     },
     "execution_count": 8,
     "metadata": {},
     "output_type": "execute_result"
    }
   ],
   "source": [
    "R2Score(train_labels, MLTrain_Results @ MLWeight)"
   ]
  },
  {
   "cell_type": "code",
   "execution_count": 9,
   "id": "fc3f8715",
   "metadata": {},
   "outputs": [
    {
     "data": {
      "text/plain": [
       "0.8338765577848803"
      ]
     },
     "execution_count": 9,
     "metadata": {},
     "output_type": "execute_result"
    }
   ],
   "source": [
    "R2Score(test_labels, MLTest_Results @ MLWeight)"
   ]
  },
  {
   "cell_type": "code",
   "execution_count": 10,
   "id": "1a0c802b",
   "metadata": {},
   "outputs": [
    {
     "data": {
      "text/plain": [
       "0.8268109106138984"
      ]
     },
     "execution_count": 10,
     "metadata": {},
     "output_type": "execute_result"
    }
   ],
   "source": [
    "R2Score(valid_labels, MLValid_Results @ MLWeight)"
   ]
  },
  {
   "cell_type": "markdown",
   "id": "65b352e2",
   "metadata": {},
   "source": [
    "# 深度学习模型"
   ]
  },
  {
   "cell_type": "code",
   "execution_count": 11,
   "id": "ea0f5dba",
   "metadata": {},
   "outputs": [],
   "source": [
    "from tsai.inference import load_learner"
   ]
  },
  {
   "cell_type": "code",
   "execution_count": 12,
   "id": "4ada46f9",
   "metadata": {},
   "outputs": [],
   "source": [
    "# # 加载深度学习回归模型\n",
    "# DLModels = {}\n",
    "# DLModels['10LSTM'] = load_learner(Path('./models/10LSTMRegression.pkl'), cpu=False)\n",
    "# DLModels['11LSTM'] = load_learner(Path('./models/11LSTMRegression.pkl'), cpu=False)\n",
    "# DLModels['12LSTM'] = load_learner(Path('./models/12LSTMRegression.pkl'), cpu=False)\n",
    "# DLModels['13LSTM'] = load_learner(Path('./models/13LSTMRegression.pkl'), cpu=False)\n",
    "# DLModels['14LSTM'] = load_learner(Path('./models/14LSTMRegression.pkl'), cpu=False)\n",
    "# DLModels['15XCMPlus'] = load_learner(Path('./models/15XCMPlusRegression.pkl'), cpu=False)\n",
    "\n",
    "# # 初始化最优权重值\n",
    "# DLWeight = np.array([0.45, 0.26, 0, 0, 0.14, 0.15])"
   ]
  },
  {
   "cell_type": "code",
   "execution_count": 13,
   "id": "bb31f18b",
   "metadata": {},
   "outputs": [],
   "source": [
    "DLTrain_Features = torch.tensor(train_data.drop(['Rect', 'Time_ns'], axis=1).values, dtype=torch.float32).reshape(-1, 1, 8)\n",
    "DLTrain_Labels = torch.tensor(train_data.Rect.values.reshape(-1, 1), dtype=torch.float32).reshape(-1)\n",
    "\n",
    "DLTest_Features = torch.tensor(test_data.drop(['Rect', 'Time_ns'], axis=1).values, dtype=torch.float32).reshape(-1, 1, 8)\n",
    "DLTest_Labels = torch.tensor(test_data.Rect.values.reshape(-1, 1), dtype=torch.float32).reshape(-1)\n",
    "\n",
    "DLValid_Features = torch.tensor(valid_data.drop(['Rect', 'Time_ns'], axis=1).values, dtype=torch.float32).reshape(-1, 1, 8)\n",
    "DLValid_Labels = torch.tensor(valid_data.Rect.values.reshape(-1, 1), dtype=torch.float32).reshape(-1)"
   ]
  },
  {
   "cell_type": "code",
   "execution_count": 14,
   "id": "83651019",
   "metadata": {},
   "outputs": [],
   "source": [
    "# # 加载深度学习回归模型\n",
    "\n",
    "DLModels = {}\n",
    "DLModels['30LSTM'] = load_learner(Path('./models/30LSTMRegression.pkl'), cpu=False)\n",
    "DLModels['31LSTM'] = load_learner(Path('./models/31LSTMRegression.pkl'), cpu=False)\n",
    "DLModels['32LSTM'] = load_learner(Path('./models/32LSTMRegression.pkl'), cpu=False)\n",
    "DLModels['33MLSTM_FCN'] = load_learner(Path('./models/33MLSTM_FCNRegression.pkl'), cpu=False)\n",
    "DLModels['34MLSTM_FCNPlus'] = load_learner(Path('./models/34MLSTM_FCNPlusRegression.pkl'), cpu=False)\n",
    "DLModels['35LSTM'] = load_learner(Path('./models/35LSTMRegression.pkl'), cpu=False)\n",
    "\n",
    "# 初始化最优权重值\n",
    "DLWeight =  torch.tensor([0.15, 0.25, 0.28, 0.32, 0, 0], dtype=torch.float32)"
   ]
  },
  {
   "cell_type": "markdown",
   "id": "66a60a98",
   "metadata": {},
   "source": [
    "## DL测试"
   ]
  },
  {
   "cell_type": "code",
   "execution_count": 15,
   "id": "fbd0e782",
   "metadata": {},
   "outputs": [
    {
     "data": {
      "text/html": [
       "\n",
       "<style>\n",
       "    /* Turns off some styling */\n",
       "    progress {\n",
       "        /* gets rid of default border in Firefox and Opera. */\n",
       "        border: none;\n",
       "        /* Needs to be in here for Safari polyfill so background images work as expected. */\n",
       "        background-size: auto;\n",
       "    }\n",
       "    .progress-bar-interrupted, .progress-bar-interrupted::-webkit-progress-bar {\n",
       "        background: #F44336;\n",
       "    }\n",
       "</style>\n"
      ],
      "text/plain": [
       "<IPython.core.display.HTML object>"
      ]
     },
     "metadata": {},
     "output_type": "display_data"
    },
    {
     "data": {
      "text/html": [],
      "text/plain": [
       "<IPython.core.display.HTML object>"
      ]
     },
     "metadata": {},
     "output_type": "display_data"
    },
    {
     "data": {
      "text/html": [
       "\n",
       "<style>\n",
       "    /* Turns off some styling */\n",
       "    progress {\n",
       "        /* gets rid of default border in Firefox and Opera. */\n",
       "        border: none;\n",
       "        /* Needs to be in here for Safari polyfill so background images work as expected. */\n",
       "        background-size: auto;\n",
       "    }\n",
       "    .progress-bar-interrupted, .progress-bar-interrupted::-webkit-progress-bar {\n",
       "        background: #F44336;\n",
       "    }\n",
       "</style>\n"
      ],
      "text/plain": [
       "<IPython.core.display.HTML object>"
      ]
     },
     "metadata": {},
     "output_type": "display_data"
    },
    {
     "data": {
      "text/html": [],
      "text/plain": [
       "<IPython.core.display.HTML object>"
      ]
     },
     "metadata": {},
     "output_type": "display_data"
    },
    {
     "data": {
      "text/html": [
       "\n",
       "<style>\n",
       "    /* Turns off some styling */\n",
       "    progress {\n",
       "        /* gets rid of default border in Firefox and Opera. */\n",
       "        border: none;\n",
       "        /* Needs to be in here for Safari polyfill so background images work as expected. */\n",
       "        background-size: auto;\n",
       "    }\n",
       "    .progress-bar-interrupted, .progress-bar-interrupted::-webkit-progress-bar {\n",
       "        background: #F44336;\n",
       "    }\n",
       "</style>\n"
      ],
      "text/plain": [
       "<IPython.core.display.HTML object>"
      ]
     },
     "metadata": {},
     "output_type": "display_data"
    },
    {
     "data": {
      "text/html": [],
      "text/plain": [
       "<IPython.core.display.HTML object>"
      ]
     },
     "metadata": {},
     "output_type": "display_data"
    },
    {
     "data": {
      "text/html": [
       "\n",
       "<style>\n",
       "    /* Turns off some styling */\n",
       "    progress {\n",
       "        /* gets rid of default border in Firefox and Opera. */\n",
       "        border: none;\n",
       "        /* Needs to be in here for Safari polyfill so background images work as expected. */\n",
       "        background-size: auto;\n",
       "    }\n",
       "    .progress-bar-interrupted, .progress-bar-interrupted::-webkit-progress-bar {\n",
       "        background: #F44336;\n",
       "    }\n",
       "</style>\n"
      ],
      "text/plain": [
       "<IPython.core.display.HTML object>"
      ]
     },
     "metadata": {},
     "output_type": "display_data"
    },
    {
     "data": {
      "text/html": [],
      "text/plain": [
       "<IPython.core.display.HTML object>"
      ]
     },
     "metadata": {},
     "output_type": "display_data"
    },
    {
     "data": {
      "text/html": [
       "\n",
       "<style>\n",
       "    /* Turns off some styling */\n",
       "    progress {\n",
       "        /* gets rid of default border in Firefox and Opera. */\n",
       "        border: none;\n",
       "        /* Needs to be in here for Safari polyfill so background images work as expected. */\n",
       "        background-size: auto;\n",
       "    }\n",
       "    .progress-bar-interrupted, .progress-bar-interrupted::-webkit-progress-bar {\n",
       "        background: #F44336;\n",
       "    }\n",
       "</style>\n"
      ],
      "text/plain": [
       "<IPython.core.display.HTML object>"
      ]
     },
     "metadata": {},
     "output_type": "display_data"
    },
    {
     "data": {
      "text/html": [],
      "text/plain": [
       "<IPython.core.display.HTML object>"
      ]
     },
     "metadata": {},
     "output_type": "display_data"
    },
    {
     "data": {
      "text/html": [
       "\n",
       "<style>\n",
       "    /* Turns off some styling */\n",
       "    progress {\n",
       "        /* gets rid of default border in Firefox and Opera. */\n",
       "        border: none;\n",
       "        /* Needs to be in here for Safari polyfill so background images work as expected. */\n",
       "        background-size: auto;\n",
       "    }\n",
       "    .progress-bar-interrupted, .progress-bar-interrupted::-webkit-progress-bar {\n",
       "        background: #F44336;\n",
       "    }\n",
       "</style>\n"
      ],
      "text/plain": [
       "<IPython.core.display.HTML object>"
      ]
     },
     "metadata": {},
     "output_type": "display_data"
    },
    {
     "data": {
      "text/html": [],
      "text/plain": [
       "<IPython.core.display.HTML object>"
      ]
     },
     "metadata": {},
     "output_type": "display_data"
    },
    {
     "data": {
      "text/html": [
       "\n",
       "<style>\n",
       "    /* Turns off some styling */\n",
       "    progress {\n",
       "        /* gets rid of default border in Firefox and Opera. */\n",
       "        border: none;\n",
       "        /* Needs to be in here for Safari polyfill so background images work as expected. */\n",
       "        background-size: auto;\n",
       "    }\n",
       "    .progress-bar-interrupted, .progress-bar-interrupted::-webkit-progress-bar {\n",
       "        background: #F44336;\n",
       "    }\n",
       "</style>\n"
      ],
      "text/plain": [
       "<IPython.core.display.HTML object>"
      ]
     },
     "metadata": {},
     "output_type": "display_data"
    },
    {
     "data": {
      "text/html": [],
      "text/plain": [
       "<IPython.core.display.HTML object>"
      ]
     },
     "metadata": {},
     "output_type": "display_data"
    },
    {
     "data": {
      "text/html": [
       "\n",
       "<style>\n",
       "    /* Turns off some styling */\n",
       "    progress {\n",
       "        /* gets rid of default border in Firefox and Opera. */\n",
       "        border: none;\n",
       "        /* Needs to be in here for Safari polyfill so background images work as expected. */\n",
       "        background-size: auto;\n",
       "    }\n",
       "    .progress-bar-interrupted, .progress-bar-interrupted::-webkit-progress-bar {\n",
       "        background: #F44336;\n",
       "    }\n",
       "</style>\n"
      ],
      "text/plain": [
       "<IPython.core.display.HTML object>"
      ]
     },
     "metadata": {},
     "output_type": "display_data"
    },
    {
     "data": {
      "text/html": [],
      "text/plain": [
       "<IPython.core.display.HTML object>"
      ]
     },
     "metadata": {},
     "output_type": "display_data"
    },
    {
     "data": {
      "text/html": [
       "\n",
       "<style>\n",
       "    /* Turns off some styling */\n",
       "    progress {\n",
       "        /* gets rid of default border in Firefox and Opera. */\n",
       "        border: none;\n",
       "        /* Needs to be in here for Safari polyfill so background images work as expected. */\n",
       "        background-size: auto;\n",
       "    }\n",
       "    .progress-bar-interrupted, .progress-bar-interrupted::-webkit-progress-bar {\n",
       "        background: #F44336;\n",
       "    }\n",
       "</style>\n"
      ],
      "text/plain": [
       "<IPython.core.display.HTML object>"
      ]
     },
     "metadata": {},
     "output_type": "display_data"
    },
    {
     "data": {
      "text/html": [],
      "text/plain": [
       "<IPython.core.display.HTML object>"
      ]
     },
     "metadata": {},
     "output_type": "display_data"
    },
    {
     "data": {
      "text/html": [
       "\n",
       "<style>\n",
       "    /* Turns off some styling */\n",
       "    progress {\n",
       "        /* gets rid of default border in Firefox and Opera. */\n",
       "        border: none;\n",
       "        /* Needs to be in here for Safari polyfill so background images work as expected. */\n",
       "        background-size: auto;\n",
       "    }\n",
       "    .progress-bar-interrupted, .progress-bar-interrupted::-webkit-progress-bar {\n",
       "        background: #F44336;\n",
       "    }\n",
       "</style>\n"
      ],
      "text/plain": [
       "<IPython.core.display.HTML object>"
      ]
     },
     "metadata": {},
     "output_type": "display_data"
    },
    {
     "data": {
      "text/html": [],
      "text/plain": [
       "<IPython.core.display.HTML object>"
      ]
     },
     "metadata": {},
     "output_type": "display_data"
    },
    {
     "data": {
      "text/html": [
       "\n",
       "<style>\n",
       "    /* Turns off some styling */\n",
       "    progress {\n",
       "        /* gets rid of default border in Firefox and Opera. */\n",
       "        border: none;\n",
       "        /* Needs to be in here for Safari polyfill so background images work as expected. */\n",
       "        background-size: auto;\n",
       "    }\n",
       "    .progress-bar-interrupted, .progress-bar-interrupted::-webkit-progress-bar {\n",
       "        background: #F44336;\n",
       "    }\n",
       "</style>\n"
      ],
      "text/plain": [
       "<IPython.core.display.HTML object>"
      ]
     },
     "metadata": {},
     "output_type": "display_data"
    },
    {
     "data": {
      "text/html": [],
      "text/plain": [
       "<IPython.core.display.HTML object>"
      ]
     },
     "metadata": {},
     "output_type": "display_data"
    },
    {
     "data": {
      "text/html": [
       "\n",
       "<style>\n",
       "    /* Turns off some styling */\n",
       "    progress {\n",
       "        /* gets rid of default border in Firefox and Opera. */\n",
       "        border: none;\n",
       "        /* Needs to be in here for Safari polyfill so background images work as expected. */\n",
       "        background-size: auto;\n",
       "    }\n",
       "    .progress-bar-interrupted, .progress-bar-interrupted::-webkit-progress-bar {\n",
       "        background: #F44336;\n",
       "    }\n",
       "</style>\n"
      ],
      "text/plain": [
       "<IPython.core.display.HTML object>"
      ]
     },
     "metadata": {},
     "output_type": "display_data"
    },
    {
     "data": {
      "text/html": [],
      "text/plain": [
       "<IPython.core.display.HTML object>"
      ]
     },
     "metadata": {},
     "output_type": "display_data"
    },
    {
     "data": {
      "text/html": [
       "\n",
       "<style>\n",
       "    /* Turns off some styling */\n",
       "    progress {\n",
       "        /* gets rid of default border in Firefox and Opera. */\n",
       "        border: none;\n",
       "        /* Needs to be in here for Safari polyfill so background images work as expected. */\n",
       "        background-size: auto;\n",
       "    }\n",
       "    .progress-bar-interrupted, .progress-bar-interrupted::-webkit-progress-bar {\n",
       "        background: #F44336;\n",
       "    }\n",
       "</style>\n"
      ],
      "text/plain": [
       "<IPython.core.display.HTML object>"
      ]
     },
     "metadata": {},
     "output_type": "display_data"
    },
    {
     "data": {
      "text/html": [],
      "text/plain": [
       "<IPython.core.display.HTML object>"
      ]
     },
     "metadata": {},
     "output_type": "display_data"
    },
    {
     "data": {
      "text/html": [
       "\n",
       "<style>\n",
       "    /* Turns off some styling */\n",
       "    progress {\n",
       "        /* gets rid of default border in Firefox and Opera. */\n",
       "        border: none;\n",
       "        /* Needs to be in here for Safari polyfill so background images work as expected. */\n",
       "        background-size: auto;\n",
       "    }\n",
       "    .progress-bar-interrupted, .progress-bar-interrupted::-webkit-progress-bar {\n",
       "        background: #F44336;\n",
       "    }\n",
       "</style>\n"
      ],
      "text/plain": [
       "<IPython.core.display.HTML object>"
      ]
     },
     "metadata": {},
     "output_type": "display_data"
    },
    {
     "data": {
      "text/html": [],
      "text/plain": [
       "<IPython.core.display.HTML object>"
      ]
     },
     "metadata": {},
     "output_type": "display_data"
    },
    {
     "data": {
      "text/html": [
       "\n",
       "<style>\n",
       "    /* Turns off some styling */\n",
       "    progress {\n",
       "        /* gets rid of default border in Firefox and Opera. */\n",
       "        border: none;\n",
       "        /* Needs to be in here for Safari polyfill so background images work as expected. */\n",
       "        background-size: auto;\n",
       "    }\n",
       "    .progress-bar-interrupted, .progress-bar-interrupted::-webkit-progress-bar {\n",
       "        background: #F44336;\n",
       "    }\n",
       "</style>\n"
      ],
      "text/plain": [
       "<IPython.core.display.HTML object>"
      ]
     },
     "metadata": {},
     "output_type": "display_data"
    },
    {
     "data": {
      "text/html": [],
      "text/plain": [
       "<IPython.core.display.HTML object>"
      ]
     },
     "metadata": {},
     "output_type": "display_data"
    },
    {
     "data": {
      "text/html": [
       "\n",
       "<style>\n",
       "    /* Turns off some styling */\n",
       "    progress {\n",
       "        /* gets rid of default border in Firefox and Opera. */\n",
       "        border: none;\n",
       "        /* Needs to be in here for Safari polyfill so background images work as expected. */\n",
       "        background-size: auto;\n",
       "    }\n",
       "    .progress-bar-interrupted, .progress-bar-interrupted::-webkit-progress-bar {\n",
       "        background: #F44336;\n",
       "    }\n",
       "</style>\n"
      ],
      "text/plain": [
       "<IPython.core.display.HTML object>"
      ]
     },
     "metadata": {},
     "output_type": "display_data"
    },
    {
     "data": {
      "text/html": [],
      "text/plain": [
       "<IPython.core.display.HTML object>"
      ]
     },
     "metadata": {},
     "output_type": "display_data"
    },
    {
     "data": {
      "text/html": [
       "\n",
       "<style>\n",
       "    /* Turns off some styling */\n",
       "    progress {\n",
       "        /* gets rid of default border in Firefox and Opera. */\n",
       "        border: none;\n",
       "        /* Needs to be in here for Safari polyfill so background images work as expected. */\n",
       "        background-size: auto;\n",
       "    }\n",
       "    .progress-bar-interrupted, .progress-bar-interrupted::-webkit-progress-bar {\n",
       "        background: #F44336;\n",
       "    }\n",
       "</style>\n"
      ],
      "text/plain": [
       "<IPython.core.display.HTML object>"
      ]
     },
     "metadata": {},
     "output_type": "display_data"
    },
    {
     "data": {
      "text/html": [],
      "text/plain": [
       "<IPython.core.display.HTML object>"
      ]
     },
     "metadata": {},
     "output_type": "display_data"
    },
    {
     "data": {
      "text/html": [
       "\n",
       "<style>\n",
       "    /* Turns off some styling */\n",
       "    progress {\n",
       "        /* gets rid of default border in Firefox and Opera. */\n",
       "        border: none;\n",
       "        /* Needs to be in here for Safari polyfill so background images work as expected. */\n",
       "        background-size: auto;\n",
       "    }\n",
       "    .progress-bar-interrupted, .progress-bar-interrupted::-webkit-progress-bar {\n",
       "        background: #F44336;\n",
       "    }\n",
       "</style>\n"
      ],
      "text/plain": [
       "<IPython.core.display.HTML object>"
      ]
     },
     "metadata": {},
     "output_type": "display_data"
    },
    {
     "data": {
      "text/html": [],
      "text/plain": [
       "<IPython.core.display.HTML object>"
      ]
     },
     "metadata": {},
     "output_type": "display_data"
    }
   ],
   "source": [
    "DLTrainProbas = {}\n",
    "DLTestProbas = {}\n",
    "DLValidProbas = {}\n",
    "\n",
    "for i in DLModels:\n",
    "    DLTrainProbas[i], _, _ = DLModels[i].get_X_preds(DLTrain_Features)\n",
    "    DLTestProbas[i], _, _ = DLModels[i].get_X_preds(DLTest_Features)\n",
    "    DLValidProbas[i], _, _ = DLModels[i].get_X_preds(DLValid_Features)"
   ]
  },
  {
   "cell_type": "code",
   "execution_count": 16,
   "id": "f0c22a25",
   "metadata": {},
   "outputs": [],
   "source": [
    "DLTrainProbasCat = torch.cat([DLTrainProbas[i] for i in DLTrainProbas], 1)\n",
    "DLTestProbasCat = torch.cat([DLTestProbas[i] for i in DLTestProbas], 1)\n",
    "DLValidProbasCat = torch.cat([DLValidProbas[i] for i in DLValidProbas], 1)"
   ]
  },
  {
   "cell_type": "code",
   "execution_count": 17,
   "id": "90c0d758",
   "metadata": {},
   "outputs": [
    {
     "data": {
      "text/plain": [
       "TensorBase([[0.2469, 0.2998, 0.3168, 0.2180, 0.1997, 0.2691],\n",
       "        [0.2669, 0.2944, 0.3257, 0.2173, 0.1927, 0.2893],\n",
       "        [0.3260, 0.2870, 0.3670, 0.2292, 0.2107, 0.2979],\n",
       "        ...,\n",
       "        [0.2597, 0.3004, 0.3020, 0.2846, 0.2918, 0.2497],\n",
       "        [0.2928, 0.2761, 0.2724, 0.2522, 0.2791, 0.3193],\n",
       "        [0.3289, 0.2669, 0.2724, 0.2417, 0.2663, 0.3195]])"
      ]
     },
     "execution_count": 17,
     "metadata": {},
     "output_type": "execute_result"
    }
   ],
   "source": [
    "DLTrainProbasCat"
   ]
  },
  {
   "cell_type": "code",
   "execution_count": 18,
   "id": "f5506bca",
   "metadata": {},
   "outputs": [
    {
     "name": "stdout",
     "output_type": "stream",
     "text": [
      "TensorBase(0.9124)\n",
      "TensorBase(0.9267)\n",
      "TensorBase(0.8937)\n",
      "TensorBase(0.9440)\n",
      "TensorBase(0.9430)\n",
      "TensorBase(0.9144)\n"
     ]
    }
   ],
   "source": [
    "for i in range(0, 6):\n",
    "    print(R2Score(DLTrain_Labels, DLTrainProbasCat[:,i]))"
   ]
  },
  {
   "cell_type": "code",
   "execution_count": 19,
   "id": "2679fa01",
   "metadata": {},
   "outputs": [
    {
     "data": {
      "text/plain": [
       "TensorBase(0.9297)"
      ]
     },
     "execution_count": 19,
     "metadata": {},
     "output_type": "execute_result"
    }
   ],
   "source": [
    "R2Score(DLTrain_Labels, DLTrainProbasCat @ DLWeight)"
   ]
  },
  {
   "cell_type": "code",
   "execution_count": 20,
   "id": "eee28b2a",
   "metadata": {},
   "outputs": [
    {
     "name": "stdout",
     "output_type": "stream",
     "text": [
      "TensorBase(0.8396)\n",
      "TensorBase(0.8367)\n",
      "TensorBase(0.8351)\n",
      "TensorBase(0.8345)\n",
      "TensorBase(0.8342)\n",
      "TensorBase(0.8333)\n"
     ]
    }
   ],
   "source": [
    "for i in range(0, 6):\n",
    "    print(R2Score(DLTest_Labels, DLTestProbasCat[:,i]))"
   ]
  },
  {
   "cell_type": "code",
   "execution_count": 21,
   "id": "2dfccf03",
   "metadata": {},
   "outputs": [
    {
     "data": {
      "text/plain": [
       "TensorBase(0.8475)"
      ]
     },
     "execution_count": 21,
     "metadata": {},
     "output_type": "execute_result"
    }
   ],
   "source": [
    "R2Score(DLTest_Labels, DLTestProbasCat @ DLWeight)"
   ]
  },
  {
   "cell_type": "code",
   "execution_count": 22,
   "id": "19068db6",
   "metadata": {},
   "outputs": [
    {
     "name": "stdout",
     "output_type": "stream",
     "text": [
      "TensorBase(0.8463)\n",
      "TensorBase(0.8285)\n",
      "TensorBase(0.8256)\n",
      "TensorBase(0.8176)\n",
      "TensorBase(0.8167)\n",
      "TensorBase(0.8385)\n"
     ]
    }
   ],
   "source": [
    "for i in range(0, 6):\n",
    "    print(R2Score(DLValid_Labels, DLValidProbasCat[:,i]))"
   ]
  },
  {
   "cell_type": "code",
   "execution_count": 23,
   "id": "977d5c99",
   "metadata": {},
   "outputs": [
    {
     "data": {
      "text/plain": [
       "TensorBase(0.8410)"
      ]
     },
     "execution_count": 23,
     "metadata": {},
     "output_type": "execute_result"
    }
   ],
   "source": [
    "R2Score(DLValid_Labels, DLValidProbasCat @ DLWeight)"
   ]
  },
  {
   "cell_type": "markdown",
   "id": "94771179",
   "metadata": {},
   "source": [
    "# 集成ML和DL"
   ]
  },
  {
   "cell_type": "code",
   "execution_count": 24,
   "id": "b4f23f3f",
   "metadata": {
    "code_folding": []
   },
   "outputs": [],
   "source": [
    "MLTestResult = MLTest_Results @ MLWeight\n",
    "DLTestResult = np.array(DLTestProbasCat @ DLWeight)\n",
    "\n",
    "best_value = 0\n",
    "best_weight = []"
   ]
  },
  {
   "cell_type": "code",
   "execution_count": 25,
   "id": "6c14eecd",
   "metadata": {},
   "outputs": [
    {
     "name": "stdout",
     "output_type": "stream",
     "text": [
      "10000 0.8485710940887329 2112\n"
     ]
    }
   ],
   "source": [
    "for i in range(0, 10001, 1):\n",
    "    test_re = (MLTestResult * i + DLTestResult * (10000 - i)) / 10000\n",
    "    \n",
    "    R2 = R2Score(test_labels, test_re)\n",
    "    if R2 > best_value:\n",
    "        best_value = R2\n",
    "        best_weight = i\n",
    "\n",
    "print(i, best_value, best_weight)"
   ]
  },
  {
   "cell_type": "code",
   "execution_count": 29,
   "id": "70eb002d",
   "metadata": {},
   "outputs": [
    {
     "data": {
      "text/plain": [
       "0.9326221211456382"
      ]
     },
     "execution_count": 29,
     "metadata": {},
     "output_type": "execute_result"
    }
   ],
   "source": [
    "MLTrainResult = MLTrain_Results @ MLWeight\n",
    "DLTrainResult = np.array(DLTrainProbasCat @ DLWeight)\n",
    "\n",
    "train_re = MLTrainResult * 0.2112 + DLTrainResult * 0.7888\n",
    "\n",
    "R2Score(train_labels, train_re)"
   ]
  },
  {
   "cell_type": "code",
   "execution_count": 31,
   "id": "5c28079c",
   "metadata": {},
   "outputs": [
    {
     "data": {
      "text/plain": [
       "0.8423466037121745"
      ]
     },
     "execution_count": 31,
     "metadata": {},
     "output_type": "execute_result"
    }
   ],
   "source": [
    "MLValidResult = MLValid_Results @ MLWeight\n",
    "DLValidResult = np.array(DLValidProbasCat @ DLWeight)\n",
    "\n",
    "valid_re = MLValidResult * 0.2112 + DLValidResult * 0.7888\n",
    "\n",
    "R2Score(valid_labels, valid_re)"
   ]
  },
  {
   "cell_type": "code",
   "execution_count": 33,
   "id": "d2f534d7",
   "metadata": {},
   "outputs": [],
   "source": [
    "# plt.figure()\n",
    "# plt.plot(np.arange(len(valid_labels)), valid_labels,'go-',label='True Value')\n",
    "# plt.plot(np.arange(len(valid_labels)), valid_re,'ro-',label='Predict Value')\n",
    "# # plt.title(f'{name} score: {score}')\n",
    "# plt.xlabel = \"Samples\"\n",
    "# plt.ylabel = \"Angle of Rotation\"\n",
    "# plt.legend()\n",
    "# plt.show()"
   ]
  },
  {
   "cell_type": "markdown",
   "id": "4bfa4d35",
   "metadata": {},
   "source": [
    "# 延时卷积投票算法"
   ]
  },
  {
   "cell_type": "markdown",
   "id": "9417d70b",
   "metadata": {},
   "source": [
    "## 这边tsai会输出很多空行，需要到pycharm中计算"
   ]
  },
  {
   "cell_type": "code",
   "execution_count": 42,
   "id": "50c61d37",
   "metadata": {
    "scrolled": true
   },
   "outputs": [],
   "source": [
    "results = torch.zeros((100, 1))\n",
    "test_labels = torch.tensor(test_labels)\n",
    "\n",
    "for ii in range(3, 100, 2):\n",
    "    window_size = ii  # 滑动窗口大小为7\n",
    "    half_window_size = window_size // 2\n",
    "    window_weight = torch.tensor([1 / ii for i in range(0, ii)])\n",
    "\n",
    "    MLDL_weight = torch.tensor([0.2112, 0.7888])\n",
    "\n",
    "    idx = 0\n",
    "    window_slide = torch.zeros(window_weight.shape)\n",
    "    re = torch.zeros(test_labels.shape)\n",
    "    re_idx = 0\n",
    "\n",
    "    isWindowsEmpty = True\n",
    "\n",
    "    t = 3\n",
    "\n",
    "    for index, row in test_features.iterrows():\n",
    "        sEMG = np.array(row).reshape(1, -1)\n",
    "\n",
    "        # ML\n",
    "        MLResults = 0\n",
    "        for i, j in enumerate(MLModels):\n",
    "            MLResults += MLWeight[i] * MLModels[j].predict(sEMG)\n",
    "        \n",
    "        # DL\n",
    "        DLResults = 0\n",
    "        for i, j in enumerate(DLModels):\n",
    "            sEMG = sEMG.reshape(1, 1, 8)\n",
    "            _, _, preds = DLModels[j].get_X_preds(sEMG)\n",
    "            DLResults += DLWeight[i] * np.array(preds)\n",
    "\n",
    "        sEMG = MLDL_weight[0] * MLResults + MLDL_weight[1] * DLResults\n",
    "\n",
    "        # 先把数据填满\n",
    "        if isWindowsEmpty:\n",
    "            window_slide[idx] = sEMG\n",
    "            # 保存结果\n",
    "            if idx < half_window_size:\n",
    "                re[re_idx] = sEMG.item()\n",
    "                re_idx += 1\n",
    "\n",
    "                if re_idx == re.shape[0]:\n",
    "                    break\n",
    "\n",
    "            idx += 1\n",
    "\n",
    "            if idx == window_size:\n",
    "                idx = half_window_size\n",
    "                isWindowsEmpty = False\n",
    "            else:\n",
    "                continue\n",
    "\n",
    "        # 投票算法\n",
    "        window_slide[(idx + half_window_size) % window_size] = sEMG\n",
    "\n",
    "        window_slide[idx] *= window_weight[0]\n",
    "\n",
    "        for i in range(1, window_size, 1):\n",
    "            window_slide[idx] += window_slide[(idx + i) % window_size] * window_weight[i]\n",
    "\n",
    "        re[re_idx] = window_slide[idx].item()\n",
    "        re_idx += 1\n",
    "\n",
    "        # print(re_idx)\n",
    "        if re_idx == valid_features.shape[0] - half_window_size:\n",
    "            while re_idx < valid_features.shape[0]:\n",
    "                idx = (idx + 1) % 7\n",
    "                re[re_idx] = window_slide[idx].item()\n",
    "                re_idx += 1\n",
    "\n",
    "        if idx < window_size - 1:\n",
    "            idx += 1\n",
    "        else:\n",
    "            idx = 0\n",
    "\n",
    "    results[ii] = R2Score(valid_labels, re)\n",
    "    print(ii, results[ii])"
   ]
  },
  {
   "cell_type": "code",
   "execution_count": null,
   "id": "144d6deb",
   "metadata": {},
   "outputs": [],
   "source": []
  }
 ],
 "metadata": {
  "kernelspec": {
   "display_name": "p38",
   "language": "python",
   "name": "p38"
  },
  "language_info": {
   "codemirror_mode": {
    "name": "ipython",
    "version": 3
   },
   "file_extension": ".py",
   "mimetype": "text/x-python",
   "name": "python",
   "nbconvert_exporter": "python",
   "pygments_lexer": "ipython3",
   "version": "3.8.12"
  }
 },
 "nbformat": 4,
 "nbformat_minor": 5
}
