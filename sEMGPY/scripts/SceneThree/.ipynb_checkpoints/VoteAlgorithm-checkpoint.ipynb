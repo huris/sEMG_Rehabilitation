{
 "cells": [
  {
   "cell_type": "markdown",
   "id": "a9457366",
   "metadata": {},
   "source": [
    "# 导入库"
   ]
  },
  {
   "cell_type": "code",
   "execution_count": 11,
   "id": "97962a9c",
   "metadata": {},
   "outputs": [],
   "source": [
    "import seaborn as sns\n",
    "import matplotlib.pyplot as plt\n",
    "from matplotlib import rcParams\n",
    "import pandas_profiling as ppf\n",
    "%matplotlib inline\n",
    "%config InlineBackend.figure_format = 'svg'\n",
    "# # 设置中文和'-'负号显示问题\n",
    "# from pylab import mpl\n",
    "# mpl.rcParams['font.sans-serif'] = ['FangSong']  # 设置matplotlib可以显示汉语\n",
    "# mpl.rcParams['axes.unicode_minus'] = True\n",
    "\n",
    "# Preprocessing tools\n",
    "import math\n",
    "import time\n",
    "import numpy as np\n",
    "import pandas as pd\n",
    "\n",
    "# DL/ML Algoirthm\n",
    "from sklearn.impute import SimpleImputer\n",
    "from sklearn.preprocessing import OneHotEncoder\n",
    "from tsai.all import *\n",
    "\n",
    "# import data\n",
    "import joblib\n",
    "\n",
    "\n",
    "import os\n",
    "os.environ[\"KMP_DUPLICATE_LIB_OK\"]=\"TRUE\"\n",
    "import warnings\n",
    "warnings.filterwarnings(action=\"ignore\")"
   ]
  },
  {
   "cell_type": "markdown",
   "id": "54deff2e",
   "metadata": {},
   "source": [
    "# 导入数据"
   ]
  },
  {
   "cell_type": "code",
   "execution_count": 12,
   "id": "40c54c86",
   "metadata": {},
   "outputs": [],
   "source": [
    "cols = [\"One\", \"Two\", \"Three\", \"Four\", \"Five\", \"Six\", \"Seven\", \"Eight\", \"Rect\", \"Time_ns\"]\n",
    "\n",
    "train1_data = pd.read_csv(\"data/Train1.csv\", header=None)\n",
    "train2_data = pd.read_csv(\"data/Train2.csv\", header=None)\n",
    "train3_data = pd.read_csv(\"data/Train3.csv\", header=None)\n",
    "train_data = pd.read_csv(\"data/Train.csv\", header=None)\n",
    "\n",
    "test_data = pd.read_csv(\"data/Test.csv\", header=None)\n",
    "valid_data = pd.read_csv(\"data/Valid.csv\", header=None)\n",
    "\n",
    "train_data.columns = test_data.columns = valid_data.columns = cols"
   ]
  },
  {
   "cell_type": "code",
   "execution_count": 13,
   "id": "9d7a83ac",
   "metadata": {},
   "outputs": [
    {
     "data": {
      "text/plain": [
       "(      One  Two  Three  Four  Five  Six  Seven  Eight\n",
       " 0      84  268    736   161    57  285     76    209\n",
       " 1      90  262    717   147    54  292     78    216\n",
       " 2      96  291    708   173    61  297     80    205\n",
       " 3      96  361    719   164    58  302     80    208\n",
       " 4      85  374    746   148    55  309     75    215\n",
       " ...   ...  ...    ...   ...   ...  ...    ...    ...\n",
       " 8926  212  596    640   186    65  573    360    488\n",
       " 8927  215  588    647   189    69  588    434    561\n",
       " 8928  194  589    653   185    60  601    477    573\n",
       " 8929  200  464    649   160    53  629    499    579\n",
       " 8930  197  438    629   143    53  661    508    606\n",
       " \n",
       " [8931 rows x 8 columns],\n",
       " 0       0.18\n",
       " 1       0.19\n",
       " 2       0.21\n",
       " 3       0.22\n",
       " 4       0.23\n",
       "         ... \n",
       " 8926    0.29\n",
       " 8927    0.30\n",
       " 8928    0.31\n",
       " 8929    0.32\n",
       " 8930    0.33\n",
       " Name: Rect, Length: 8931, dtype: float64,\n",
       "       One  Two  Three  Four  Five  Six  Seven  Eight  Rect\n",
       " 0      84  268    736   161    57  285     76    209  0.18\n",
       " 1      90  262    717   147    54  292     78    216  0.19\n",
       " 2      96  291    708   173    61  297     80    205  0.21\n",
       " 3      96  361    719   164    58  302     80    208  0.22\n",
       " 4      85  374    746   148    55  309     75    215  0.23\n",
       " ...   ...  ...    ...   ...   ...  ...    ...    ...   ...\n",
       " 8926  212  596    640   186    65  573    360    488  0.29\n",
       " 8927  215  588    647   189    69  588    434    561  0.30\n",
       " 8928  194  589    653   185    60  601    477    573  0.31\n",
       " 8929  200  464    649   160    53  629    499    579  0.32\n",
       " 8930  197  438    629   143    53  661    508    606  0.33\n",
       " \n",
       " [8931 rows x 9 columns],\n",
       "          One    Two  Three   Four  Five    Six  Seven  Eight  Rect\n",
       " 0       84.0  268.0  736.0  161.0  57.0  285.0   76.0  209.0  0.18\n",
       " 1       90.0  262.0  717.0  147.0  54.0  292.0   78.0  216.0  0.19\n",
       " 2       96.0  291.0  708.0  173.0  61.0  297.0   80.0  205.0  0.21\n",
       " 3       96.0  361.0  719.0  164.0  58.0  302.0   80.0  208.0  0.22\n",
       " 4       85.0  374.0  746.0  148.0  55.0  309.0   75.0  215.0  0.23\n",
       " ...      ...    ...    ...    ...   ...    ...    ...    ...   ...\n",
       " 11903  160.0  472.0  573.0  149.0  82.0  597.0  620.0  607.0  0.29\n",
       " 11904  172.0  438.0  536.0  150.0  82.0  564.0  638.0  590.0  0.29\n",
       " 11905  170.0  443.0  528.0  151.0  85.0  502.0  622.0  611.0  0.31\n",
       " 11906  172.0  462.0  517.0  154.0  78.0  411.0  436.0  524.0  0.32\n",
       " 11907  191.0  574.0  402.0  178.0  88.0  386.0  533.0  559.0  0.32\n",
       " \n",
       " [11908 rows x 9 columns],\n",
       "       One  Three  Four  Six  Seven  Eight\n",
       " 0      84    736   161  285     76    209\n",
       " 1      90    717   147  292     78    216\n",
       " 2      96    708   173  297     80    205\n",
       " 3      96    719   164  302     80    208\n",
       " 4      85    746   148  309     75    215\n",
       " ...   ...    ...   ...  ...    ...    ...\n",
       " 8926  212    640   186  573    360    488\n",
       " 8927  215    647   189  588    434    561\n",
       " 8928  194    653   185  601    477    573\n",
       " 8929  200    649   160  629    499    579\n",
       " 8930  197    629   143  661    508    606\n",
       " \n",
       " [8931 rows x 6 columns],\n",
       "       Three  Four\n",
       " 0       736   161\n",
       " 1       717   147\n",
       " 2       708   173\n",
       " 3       719   164\n",
       " 4       746   148\n",
       " ...     ...   ...\n",
       " 8926    640   186\n",
       " 8927    647   189\n",
       " 8928    653   185\n",
       " 8929    649   160\n",
       " 8930    629   143\n",
       " \n",
       " [8931 rows x 2 columns])"
      ]
     },
     "execution_count": 13,
     "metadata": {},
     "output_type": "execute_result"
    }
   ],
   "source": [
    "train_features = train_data.drop(['Rect', 'Time_ns'], axis=1)\n",
    "train_labels = train_data.Rect\n",
    "train_all = pd.concat([train_features, train_labels], axis=1, ignore_index=True, sort=False)\n",
    "train_six_features = train_data.drop(['Two', 'Five', 'Rect', 'Time_ns'], axis=1)\n",
    "train_two_features = pd.concat([train_data.Three, train_data.Four], axis=1, ignore_index=False, sort=False)\n",
    "\n",
    "test_features = test_data.drop(['Rect', 'Time_ns'], axis=1)\n",
    "test_labels = test_data.Rect\n",
    "test_all = pd.concat([test_features, test_labels], axis=1, ignore_index=True, sort=False)\n",
    "test_six_features = test_data.drop(['Two', 'Five', 'Rect', 'Time_ns'], axis=1)\n",
    "test_two_features = pd.concat([test_data.Three, test_data.Four], axis=1, ignore_index=False, sort=False)\n",
    "\n",
    "valid_features = valid_data.drop(['Rect', 'Time_ns'], axis=1)\n",
    "valid_labels = valid_data.Rect\n",
    "valid_all = pd.concat([valid_features, valid_labels], axis=1, ignore_index=True, sort=False)\n",
    "valid_six_features = valid_data.drop(['Two', 'Five', 'Rect', 'Time_ns'], axis=1)\n",
    "valid_two_features = pd.concat([valid_data.Three, valid_data.Four], axis=1, ignore_index=False, sort=False)\n",
    "\n",
    "sEMG_all = pd.concat([train_all, test_all], axis=0, ignore_index=True, sort=False)\n",
    "\n",
    "train_all.columns = test_all.columns = valid_all.columns = sEMG_all.columns = cols[:-1]\n",
    "train_features, train_labels, train_all, sEMG_all, train_six_features, train_two_features"
   ]
  },
  {
   "cell_type": "markdown",
   "id": "550a80cc",
   "metadata": {},
   "source": [
    "# 机器学习模型"
   ]
  },
  {
   "cell_type": "code",
   "execution_count": 14,
   "id": "f0ce1469",
   "metadata": {},
   "outputs": [],
   "source": [
    "# 加载机器学习模型\n",
    "MLModels = joblib.load('models/sEMGML.pkl')\n",
    "\n",
    "# 初始化最优权重值\n",
    "MLWeight = np.array([0.42, 0.04, 0.14, 0.11, 0.09, 0.2])"
   ]
  },
  {
   "cell_type": "code",
   "execution_count": 5,
   "id": "fb4d7503",
   "metadata": {},
   "outputs": [],
   "source": [
    "MLResults = 0\n",
    "for i, j in enumerate(MLModels):\n",
    "    MLResults += MLWeight[i] * MLModels[j].predict(valid_features)"
   ]
  },
  {
   "cell_type": "code",
   "execution_count": 6,
   "id": "fc3f8715",
   "metadata": {},
   "outputs": [
    {
     "data": {
      "text/plain": [
       "torch.Size([2978, 1])"
      ]
     },
     "execution_count": 6,
     "metadata": {},
     "output_type": "execute_result"
    }
   ],
   "source": [
    "MLResults = torch.tensor(MLResults)\n",
    "MLResults = MLResults.reshape(-1, 1)\n",
    "MLResults.shape"
   ]
  },
  {
   "cell_type": "markdown",
   "id": "65b352e2",
   "metadata": {},
   "source": [
    "# 深度学习模型"
   ]
  },
  {
   "cell_type": "code",
   "execution_count": 15,
   "id": "ea0f5dba",
   "metadata": {},
   "outputs": [],
   "source": [
    "from tsai.inference import load_learner"
   ]
  },
  {
   "cell_type": "code",
   "execution_count": 16,
   "id": "4ada46f9",
   "metadata": {},
   "outputs": [],
   "source": [
    "# 加载深度学习回归模型\n",
    "DLModels = {}\n",
    "DLModels['10LSTM'] = load_learner(Path('./models/10LSTMRegression.pkl'), cpu=False)\n",
    "DLModels['11LSTM'] = load_learner(Path('./models/11LSTMRegression.pkl'), cpu=False)\n",
    "DLModels['12LSTM'] = load_learner(Path('./models/12LSTMRegression.pkl'), cpu=False)\n",
    "DLModels['13LSTM'] = load_learner(Path('./models/13LSTMRegression.pkl'), cpu=False)\n",
    "DLModels['14LSTM'] = load_learner(Path('./models/14LSTMRegression.pkl'), cpu=False)\n",
    "DLModels['15XCMPlus'] = load_learner(Path('./models/15XCMPlusRegression.pkl'), cpu=False)\n",
    "\n",
    "# 初始化最优权重值\n",
    "DLWeight = np.array([0.45, 0.26, 0, 0, 0.14, 0.15])"
   ]
  },
  {
   "cell_type": "code",
   "execution_count": 9,
   "id": "fbd0e782",
   "metadata": {},
   "outputs": [],
   "source": [
    "valid_features = torch.tensor(valid_features.values, dtype=torch.float32)\n",
    "valid_labels = torch.tensor(valid_data.Rect.values.reshape(-1, 1))"
   ]
  },
  {
   "cell_type": "code",
   "execution_count": 10,
   "id": "bbafe910",
   "metadata": {},
   "outputs": [
    {
     "name": "stdout",
     "output_type": "stream",
     "text": [
      "Could not do one pass in your dataloader, there is something wrong in it\n"
     ]
    },
    {
     "data": {
      "text/html": [
       "\n",
       "<style>\n",
       "    /* Turns off some styling */\n",
       "    progress {\n",
       "        /* gets rid of default border in Firefox and Opera. */\n",
       "        border: none;\n",
       "        /* Needs to be in here for Safari polyfill so background images work as expected. */\n",
       "        background-size: auto;\n",
       "    }\n",
       "    .progress-bar-interrupted, .progress-bar-interrupted::-webkit-progress-bar {\n",
       "        background: #F44336;\n",
       "    }\n",
       "</style>\n"
      ],
      "text/plain": [
       "<IPython.core.display.HTML object>"
      ]
     },
     "metadata": {},
     "output_type": "display_data"
    },
    {
     "data": {
      "text/html": [],
      "text/plain": [
       "<IPython.core.display.HTML object>"
      ]
     },
     "metadata": {},
     "output_type": "display_data"
    },
    {
     "name": "stdout",
     "output_type": "stream",
     "text": [
      "Could not do one pass in your dataloader, there is something wrong in it\n"
     ]
    },
    {
     "data": {
      "text/html": [
       "\n",
       "<style>\n",
       "    /* Turns off some styling */\n",
       "    progress {\n",
       "        /* gets rid of default border in Firefox and Opera. */\n",
       "        border: none;\n",
       "        /* Needs to be in here for Safari polyfill so background images work as expected. */\n",
       "        background-size: auto;\n",
       "    }\n",
       "    .progress-bar-interrupted, .progress-bar-interrupted::-webkit-progress-bar {\n",
       "        background: #F44336;\n",
       "    }\n",
       "</style>\n"
      ],
      "text/plain": [
       "<IPython.core.display.HTML object>"
      ]
     },
     "metadata": {},
     "output_type": "display_data"
    },
    {
     "data": {
      "text/html": [],
      "text/plain": [
       "<IPython.core.display.HTML object>"
      ]
     },
     "metadata": {},
     "output_type": "display_data"
    },
    {
     "name": "stdout",
     "output_type": "stream",
     "text": [
      "Could not do one pass in your dataloader, there is something wrong in it\n"
     ]
    },
    {
     "data": {
      "text/html": [
       "\n",
       "<style>\n",
       "    /* Turns off some styling */\n",
       "    progress {\n",
       "        /* gets rid of default border in Firefox and Opera. */\n",
       "        border: none;\n",
       "        /* Needs to be in here for Safari polyfill so background images work as expected. */\n",
       "        background-size: auto;\n",
       "    }\n",
       "    .progress-bar-interrupted, .progress-bar-interrupted::-webkit-progress-bar {\n",
       "        background: #F44336;\n",
       "    }\n",
       "</style>\n"
      ],
      "text/plain": [
       "<IPython.core.display.HTML object>"
      ]
     },
     "metadata": {},
     "output_type": "display_data"
    },
    {
     "data": {
      "text/html": [],
      "text/plain": [
       "<IPython.core.display.HTML object>"
      ]
     },
     "metadata": {},
     "output_type": "display_data"
    },
    {
     "name": "stdout",
     "output_type": "stream",
     "text": [
      "Could not do one pass in your dataloader, there is something wrong in it\n"
     ]
    },
    {
     "data": {
      "text/html": [
       "\n",
       "<style>\n",
       "    /* Turns off some styling */\n",
       "    progress {\n",
       "        /* gets rid of default border in Firefox and Opera. */\n",
       "        border: none;\n",
       "        /* Needs to be in here for Safari polyfill so background images work as expected. */\n",
       "        background-size: auto;\n",
       "    }\n",
       "    .progress-bar-interrupted, .progress-bar-interrupted::-webkit-progress-bar {\n",
       "        background: #F44336;\n",
       "    }\n",
       "</style>\n"
      ],
      "text/plain": [
       "<IPython.core.display.HTML object>"
      ]
     },
     "metadata": {},
     "output_type": "display_data"
    },
    {
     "data": {
      "text/html": [],
      "text/plain": [
       "<IPython.core.display.HTML object>"
      ]
     },
     "metadata": {},
     "output_type": "display_data"
    },
    {
     "name": "stdout",
     "output_type": "stream",
     "text": [
      "Could not do one pass in your dataloader, there is something wrong in it\n"
     ]
    },
    {
     "data": {
      "text/html": [
       "\n",
       "<style>\n",
       "    /* Turns off some styling */\n",
       "    progress {\n",
       "        /* gets rid of default border in Firefox and Opera. */\n",
       "        border: none;\n",
       "        /* Needs to be in here for Safari polyfill so background images work as expected. */\n",
       "        background-size: auto;\n",
       "    }\n",
       "    .progress-bar-interrupted, .progress-bar-interrupted::-webkit-progress-bar {\n",
       "        background: #F44336;\n",
       "    }\n",
       "</style>\n"
      ],
      "text/plain": [
       "<IPython.core.display.HTML object>"
      ]
     },
     "metadata": {},
     "output_type": "display_data"
    },
    {
     "data": {
      "text/html": [],
      "text/plain": [
       "<IPython.core.display.HTML object>"
      ]
     },
     "metadata": {},
     "output_type": "display_data"
    },
    {
     "name": "stdout",
     "output_type": "stream",
     "text": [
      "Could not do one pass in your dataloader, there is something wrong in it\n"
     ]
    },
    {
     "data": {
      "text/html": [
       "\n",
       "<style>\n",
       "    /* Turns off some styling */\n",
       "    progress {\n",
       "        /* gets rid of default border in Firefox and Opera. */\n",
       "        border: none;\n",
       "        /* Needs to be in here for Safari polyfill so background images work as expected. */\n",
       "        background-size: auto;\n",
       "    }\n",
       "    .progress-bar-interrupted, .progress-bar-interrupted::-webkit-progress-bar {\n",
       "        background: #F44336;\n",
       "    }\n",
       "</style>\n"
      ],
      "text/plain": [
       "<IPython.core.display.HTML object>"
      ]
     },
     "metadata": {},
     "output_type": "display_data"
    },
    {
     "data": {
      "text/html": [],
      "text/plain": [
       "<IPython.core.display.HTML object>"
      ]
     },
     "metadata": {},
     "output_type": "display_data"
    }
   ],
   "source": [
    "DLResults = 0\n",
    "for i, j in enumerate(DLModels):\n",
    "    valid_features = valid_features.reshape(-1, 1, 8)\n",
    "    pro, _, _ = DLModels[j].get_X_preds(valid_features)\n",
    "    DLResults += DLWeight[i] * pro"
   ]
  },
  {
   "cell_type": "code",
   "execution_count": 11,
   "id": "1147dd29",
   "metadata": {},
   "outputs": [
    {
     "data": {
      "text/plain": [
       "torch.Size([2978, 1])"
      ]
     },
     "execution_count": 11,
     "metadata": {},
     "output_type": "execute_result"
    }
   ],
   "source": [
    "DLResults = torch.tensor(DLResults)\n",
    "DLResults.shape"
   ]
  },
  {
   "cell_type": "markdown",
   "id": "94771179",
   "metadata": {},
   "source": [
    "# 集成ML和DL"
   ]
  },
  {
   "cell_type": "code",
   "execution_count": 12,
   "id": "a7620280",
   "metadata": {},
   "outputs": [],
   "source": [
    "def R2Score(YTrue, YPre):\n",
    "        u = ((YTrue - YPre) ** 2).sum()\n",
    "        v = ((YTrue - YTrue.mean()) ** 2).sum()\n",
    "        return 1 - u / v"
   ]
  },
  {
   "cell_type": "code",
   "execution_count": 13,
   "id": "b4f23f3f",
   "metadata": {},
   "outputs": [],
   "source": [
    "test_results = torch.cat([MLResults, DLResults], dim=1)\n",
    "test_results = torch.tensor(test_results, dtype=torch.float64)\n",
    "test_labels = torch.tensor(valid_labels.reshape(1, -1), dtype=torch.float64)\n",
    "best_value = 0\n",
    "best_weight = []"
   ]
  },
  {
   "cell_type": "code",
   "execution_count": 14,
   "id": "6c14eecd",
   "metadata": {},
   "outputs": [
    {
     "name": "stdout",
     "output_type": "stream",
     "text": [
      "10000 tensor(0.8496, dtype=torch.float64) tensor([ 692., 9308.], dtype=torch.float64)\n"
     ]
    }
   ],
   "source": [
    "for i in range(0, 10001, 1):\n",
    "    w = torch.tensor([i, 10000 - i], dtype=torch.float64)\n",
    "    test_re = test_results @ w / 10000\n",
    "    \n",
    "    R2 = R2Score(test_labels, test_re)\n",
    "    if R2 > best_value:\n",
    "        best_value = R2\n",
    "        best_weight = w\n",
    "\n",
    "print(i, best_value, best_weight)"
   ]
  },
  {
   "cell_type": "code",
   "execution_count": 36,
   "id": "29c4110d",
   "metadata": {
    "scrolled": true
   },
   "outputs": [
    {
     "name": "stdout",
     "output_type": "stream",
     "text": [
      "Could not do one pass in your dataloader, there is something wrong in it\n"
     ]
    },
    {
     "data": {
      "text/html": [
       "\n",
       "<style>\n",
       "    /* Turns off some styling */\n",
       "    progress {\n",
       "        /* gets rid of default border in Firefox and Opera. */\n",
       "        border: none;\n",
       "        /* Needs to be in here for Safari polyfill so background images work as expected. */\n",
       "        background-size: auto;\n",
       "    }\n",
       "    .progress-bar-interrupted, .progress-bar-interrupted::-webkit-progress-bar {\n",
       "        background: #F44336;\n",
       "    }\n",
       "</style>\n"
      ],
      "text/plain": [
       "<IPython.core.display.HTML object>"
      ]
     },
     "metadata": {},
     "output_type": "display_data"
    },
    {
     "data": {
      "text/html": [],
      "text/plain": [
       "<IPython.core.display.HTML object>"
      ]
     },
     "metadata": {},
     "output_type": "display_data"
    },
    {
     "name": "stdout",
     "output_type": "stream",
     "text": [
      "Could not do one pass in your dataloader, there is something wrong in it\n"
     ]
    },
    {
     "data": {
      "text/html": [
       "\n",
       "<style>\n",
       "    /* Turns off some styling */\n",
       "    progress {\n",
       "        /* gets rid of default border in Firefox and Opera. */\n",
       "        border: none;\n",
       "        /* Needs to be in here for Safari polyfill so background images work as expected. */\n",
       "        background-size: auto;\n",
       "    }\n",
       "    .progress-bar-interrupted, .progress-bar-interrupted::-webkit-progress-bar {\n",
       "        background: #F44336;\n",
       "    }\n",
       "</style>\n"
      ],
      "text/plain": [
       "<IPython.core.display.HTML object>"
      ]
     },
     "metadata": {},
     "output_type": "display_data"
    },
    {
     "data": {
      "text/html": [],
      "text/plain": [
       "<IPython.core.display.HTML object>"
      ]
     },
     "metadata": {},
     "output_type": "display_data"
    },
    {
     "name": "stdout",
     "output_type": "stream",
     "text": [
      "Could not do one pass in your dataloader, there is something wrong in it\n"
     ]
    },
    {
     "data": {
      "text/html": [
       "\n",
       "<style>\n",
       "    /* Turns off some styling */\n",
       "    progress {\n",
       "        /* gets rid of default border in Firefox and Opera. */\n",
       "        border: none;\n",
       "        /* Needs to be in here for Safari polyfill so background images work as expected. */\n",
       "        background-size: auto;\n",
       "    }\n",
       "    .progress-bar-interrupted, .progress-bar-interrupted::-webkit-progress-bar {\n",
       "        background: #F44336;\n",
       "    }\n",
       "</style>\n"
      ],
      "text/plain": [
       "<IPython.core.display.HTML object>"
      ]
     },
     "metadata": {},
     "output_type": "display_data"
    },
    {
     "data": {
      "text/html": [],
      "text/plain": [
       "<IPython.core.display.HTML object>"
      ]
     },
     "metadata": {},
     "output_type": "display_data"
    },
    {
     "name": "stdout",
     "output_type": "stream",
     "text": [
      "Could not do one pass in your dataloader, there is something wrong in it\n"
     ]
    },
    {
     "data": {
      "text/html": [
       "\n",
       "<style>\n",
       "    /* Turns off some styling */\n",
       "    progress {\n",
       "        /* gets rid of default border in Firefox and Opera. */\n",
       "        border: none;\n",
       "        /* Needs to be in here for Safari polyfill so background images work as expected. */\n",
       "        background-size: auto;\n",
       "    }\n",
       "    .progress-bar-interrupted, .progress-bar-interrupted::-webkit-progress-bar {\n",
       "        background: #F44336;\n",
       "    }\n",
       "</style>\n"
      ],
      "text/plain": [
       "<IPython.core.display.HTML object>"
      ]
     },
     "metadata": {},
     "output_type": "display_data"
    },
    {
     "data": {
      "text/html": [],
      "text/plain": [
       "<IPython.core.display.HTML object>"
      ]
     },
     "metadata": {},
     "output_type": "display_data"
    },
    {
     "name": "stdout",
     "output_type": "stream",
     "text": [
      "Could not do one pass in your dataloader, there is something wrong in it\n"
     ]
    },
    {
     "data": {
      "text/html": [
       "\n",
       "<style>\n",
       "    /* Turns off some styling */\n",
       "    progress {\n",
       "        /* gets rid of default border in Firefox and Opera. */\n",
       "        border: none;\n",
       "        /* Needs to be in here for Safari polyfill so background images work as expected. */\n",
       "        background-size: auto;\n",
       "    }\n",
       "    .progress-bar-interrupted, .progress-bar-interrupted::-webkit-progress-bar {\n",
       "        background: #F44336;\n",
       "    }\n",
       "</style>\n"
      ],
      "text/plain": [
       "<IPython.core.display.HTML object>"
      ]
     },
     "metadata": {},
     "output_type": "display_data"
    },
    {
     "data": {
      "text/html": [],
      "text/plain": [
       "<IPython.core.display.HTML object>"
      ]
     },
     "metadata": {},
     "output_type": "display_data"
    },
    {
     "name": "stdout",
     "output_type": "stream",
     "text": [
      "Could not do one pass in your dataloader, there is something wrong in it\n"
     ]
    },
    {
     "data": {
      "text/html": [
       "\n",
       "<style>\n",
       "    /* Turns off some styling */\n",
       "    progress {\n",
       "        /* gets rid of default border in Firefox and Opera. */\n",
       "        border: none;\n",
       "        /* Needs to be in here for Safari polyfill so background images work as expected. */\n",
       "        background-size: auto;\n",
       "    }\n",
       "    .progress-bar-interrupted, .progress-bar-interrupted::-webkit-progress-bar {\n",
       "        background: #F44336;\n",
       "    }\n",
       "</style>\n"
      ],
      "text/plain": [
       "<IPython.core.display.HTML object>"
      ]
     },
     "metadata": {},
     "output_type": "display_data"
    },
    {
     "data": {
      "text/html": [],
      "text/plain": [
       "<IPython.core.display.HTML object>"
      ]
     },
     "metadata": {},
     "output_type": "display_data"
    },
    {
     "name": "stdout",
     "output_type": "stream",
     "text": [
      "[0.33694831] [[0.27086606]]\n"
     ]
    }
   ],
   "source": [
    "for index, row in valid_features.iterrows():\n",
    "    sEMG = np.array(row).reshape(1, -1)\n",
    "    \n",
    "    # ML\n",
    "    MLResults = 0\n",
    "    for i, j in enumerate(MLModels):\n",
    "        MLResults += MLWeight[i] * MLModels[j].predict(sEMG)\n",
    "\n",
    "    # DL\n",
    "    DLResults = 0\n",
    "    for i, j in enumerate(DLModels):\n",
    "        sEMG = sEMG.reshape(1, 1, 8)\n",
    "        _, _, preds = DLModels[j].get_X_preds(sEMG)\n",
    "        DLResults += DLWeight[i] * np.array(preds)\n",
    "    \n",
    "    print(MLResults, DLResults)\n",
    "    break"
   ]
  },
  {
   "cell_type": "markdown",
   "id": "4bfa4d35",
   "metadata": {},
   "source": [
    "# 延时卷积投票算法"
   ]
  },
  {
   "cell_type": "code",
   "execution_count": 37,
   "id": "50c61d37",
   "metadata": {},
   "outputs": [
    {
     "data": {
      "text/plain": [
       "tensor([0., 1., 2., 3., 4., 5., 6.])"
      ]
     },
     "execution_count": 37,
     "metadata": {},
     "output_type": "execute_result"
    }
   ],
   "source": [
    "window_size = 7  # 滑动窗口大小为7\n",
    "half_window_size = window_size // 2\n",
    "window_weight = torch.tensor([0.4, 0.15, 0.1, 0.05, 0.05, 0.1, 0.15])\n",
    "\n",
    "idx = 0\n",
    "window_slide = torch.zeros(window_weight.shape)\n",
    "\n",
    "for index, row in valid_features.iterrows():\n",
    "    sEMG = np.array(row).reshape(1, -1)\n",
    "    \n",
    "    # 先把数据填满\n",
    "    while idx < window_size - 1:\n",
    "        window_slide[idx] = idx\n",
    "        idx += 1\n",
    "\n",
    "    idx = half_window_size\n",
    "\n",
    "    ## 进入循环\n",
    "    current_sEMG_result\n",
    "\n",
    "    # 计算结果\n",
    "\n",
    "    # 投票算法\n",
    "    window_slide[(idx + half_window_size) % window_size] = sEMG\n",
    "\n",
    "\n",
    "    for i in range(0, window_size, 1):\n",
    "        window_slide[idx] += window_slide[(idx + i) % window_size] * window_weight[i]\n",
    "\n",
    "    if idx < window_size:\n",
    "        idx += 1\n",
    "    else:\n",
    "        idx = 0\n",
    "\n"
   ]
  },
  {
   "cell_type": "code",
   "execution_count": null,
   "id": "9b4a8004",
   "metadata": {},
   "outputs": [],
   "source": []
  }
 ],
 "metadata": {
  "kernelspec": {
   "display_name": "p38",
   "language": "python",
   "name": "p38"
  },
  "language_info": {
   "codemirror_mode": {
    "name": "ipython",
    "version": 3
   },
   "file_extension": ".py",
   "mimetype": "text/x-python",
   "name": "python",
   "nbconvert_exporter": "python",
   "pygments_lexer": "ipython3",
   "version": "3.8.12"
  }
 },
 "nbformat": 4,
 "nbformat_minor": 5
}
